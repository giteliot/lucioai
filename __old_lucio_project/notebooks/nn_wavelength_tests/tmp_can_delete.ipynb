{
 "cells": [
  {
   "cell_type": "code",
   "execution_count": 2,
   "id": "0475e871",
   "metadata": {},
   "outputs": [],
   "source": [
    "from dataclasses import dataclass"
   ]
  },
  {
   "cell_type": "code",
   "execution_count": 3,
   "id": "d58bb676",
   "metadata": {},
   "outputs": [],
   "source": [
    "@dataclass\n",
    "class MessagePair:\n",
    "    user_msg: str\n",
    "    assistant_answer: str"
   ]
  },
  {
   "cell_type": "code",
   "execution_count": 4,
   "id": "dbd7ae2d",
   "metadata": {},
   "outputs": [
    {
     "data": {
      "text/plain": [
       "[MessagePair(user_msg='ciao', assistant_answer='hey')]"
      ]
     },
     "execution_count": 4,
     "metadata": {},
     "output_type": "execute_result"
    }
   ],
   "source": [
    "mp = MessagePair(\"ciao\", \"hey\")\n",
    "[mp]"
   ]
  },
  {
   "cell_type": "code",
   "execution_count": 5,
   "id": "c8c63695",
   "metadata": {},
   "outputs": [
    {
     "data": {
      "text/plain": [
       "<list_reverseiterator at 0x11048e310>"
      ]
     },
     "execution_count": 5,
     "metadata": {},
     "output_type": "execute_result"
    }
   ],
   "source": [
    "reversed([mp])"
   ]
  },
  {
   "cell_type": "code",
   "execution_count": 7,
   "id": "262cbf6b",
   "metadata": {},
   "outputs": [
    {
     "name": "stdout",
     "output_type": "stream",
     "text": [
      "MessagePair(user_msg='ciao', assistant_answer='hey')\n"
     ]
    }
   ],
   "source": [
    "for mp in reversed([mp]):\n",
    "    print(mp)"
   ]
  },
  {
   "cell_type": "code",
   "execution_count": null,
   "id": "64404d56",
   "metadata": {},
   "outputs": [],
   "source": []
  }
 ],
 "metadata": {
  "kernelspec": {
   "display_name": "Python 3 (ipykernel)",
   "language": "python",
   "name": "python3"
  },
  "language_info": {
   "codemirror_mode": {
    "name": "ipython",
    "version": 3
   },
   "file_extension": ".py",
   "mimetype": "text/x-python",
   "name": "python",
   "nbconvert_exporter": "python",
   "pygments_lexer": "ipython3",
   "version": "3.9.12"
  }
 },
 "nbformat": 4,
 "nbformat_minor": 5
}
