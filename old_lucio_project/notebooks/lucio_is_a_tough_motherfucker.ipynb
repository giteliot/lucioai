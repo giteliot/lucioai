{
 "cells": [
  {
   "cell_type": "code",
   "execution_count": 442,
   "id": "46b1d41d",
   "metadata": {},
   "outputs": [],
   "source": [
    "import torch\n",
    "import torch.nn as nn\n",
    "import torch.optim as optim\n",
    "import numpy as np\n",
    "import pandas as pd\n",
    "import json\n",
    "from sklearn.model_selection import train_test_split\n",
    "import torch.nn.utils as torch_utils"
   ]
  },
  {
   "cell_type": "code",
   "execution_count": 45,
   "id": "a4564101",
   "metadata": {},
   "outputs": [],
   "source": [
    "trans = ['GIU', 'SEDUTO', 'SALTA', 'VAI']\n",
    "\n",
    "df = pd.read_csv('./train_csv/test.csv', header=None, delimiter=';')\n",
    "df.columns = ['wave','truth']\n",
    "\n",
    "# df = df[df['truth'].isin(['SEDUTO','VAI'])]\n",
    "\n",
    "train, test = train_test_split(df, train_size=100, stratify=df[\"truth\"])\n",
    "train['wave'] = train['wave'].apply(json.loads)\n",
    "test['wave'] = test['wave'].apply(json.loads)\n"
   ]
  },
  {
   "cell_type": "code",
   "execution_count": 446,
   "id": "e73fcb40",
   "metadata": {},
   "outputs": [],
   "source": [
    "class Net(nn.Module):\n",
    "    def __init__(self, input_size, hidden_size, num_classes, dropout_rate=0.5):\n",
    "        super(Net, self).__init__()\n",
    "        self.hidden_size = hidden_size\n",
    "        self.lstm1 = nn.LSTM(input_size, hidden_size, batch_first=True)\n",
    "        self.lstm2 = nn.LSTM(hidden_size, hidden_size, batch_first=True)\n",
    "        self.dropout = nn.Dropout(dropout_rate)\n",
    "        self.fc = nn.Linear(hidden_size, num_classes)\n",
    "        \n",
    "    def forward(self, x):\n",
    "        _, (h_n1, _) = self.lstm1(x)\n",
    "        _, (h_n2, _) = self.lstm2(h_n1)\n",
    "        h_n2 = self.dropout(h_n2[-1])\n",
    "        output = self.fc(h_n2)\n",
    "        return output\n"
   ]
  },
  {
   "cell_type": "code",
   "execution_count": 656,
   "id": "7df729a4",
   "metadata": {},
   "outputs": [],
   "source": [
    "_LIVE_LEARNING_RATE = 0.1\n",
    "_HIDDEN_SIZE = 64\n",
    "_MIN_LR = 1e-5\n",
    "_MAX_LR = 0.005\n",
    "_DROPOUT_RATE = 0.9\n",
    "_CLIP_VALUE = 2.0\n",
    "max_input_size = 100\n",
    "num_moves = 4\n",
    "\n",
    "class Dog:\n",
    "    def __init__(self, num_moves, num_possible_commands):\n",
    "        self.device = torch.device('cpu')\n",
    "        self.max_commands = num_possible_commands\n",
    "        self.model = Net(num_possible_commands, _HIDDEN_SIZE, num_moves, _DROPOUT_RATE)\n",
    "        self.optimizer = optim.Adam(self.model.parameters(), lr=_LIVE_LEARNING_RATE)\n",
    "        self.loss_fn = nn.CrossEntropyLoss()\n",
    "        \n",
    "\n",
    "    def _get_input(self, command):\n",
    "        command.extend([0] * (self.max_commands - len(command)))\n",
    "        tensor_command = torch.tensor(command[:self.max_commands]).unsqueeze(0).unsqueeze(0)\n",
    "        return tensor_command\n",
    "    \n",
    "    def _get_learning_rate(self, output, action, reward):\n",
    "        p = nn.functional.softmax(output, dim=-1).squeeze()[action]\n",
    "        m = _MAX_LR-1*_MIN_LR\n",
    "        q = _MIN_LR\n",
    "        if reward > 0:\n",
    "            m = -1*m\n",
    "            q = _MAX_LR\n",
    "        print(f\"{output}; {action}; {reward}; {m*p + q}\")\n",
    "        return m*p + q\n",
    "\n",
    "    def predict(self, command):\n",
    "        with torch.no_grad():\n",
    "            output = self.model(self._get_input(command))\n",
    "            return torch.multinomial(nn.functional.softmax(output, dim=-1).squeeze(), 1).item()\n",
    "\n",
    "    def learn(self, command, action, reward):\n",
    "        action_t = torch.tensor(action, dtype=torch.long)\n",
    "        reward_t = torch.tensor(reward, dtype=torch.float)\n",
    "        \n",
    "        # self.memory.push(self._get_input(command), action_t, reward_t)\n",
    "        out = self.model(self._get_input(command)).squeeze(0)\n",
    "        \n",
    "        dynamic_lr = self._get_learning_rate(out, action, reward)\n",
    "        \n",
    "        optimizer = optim.Adam(self.model.parameters(), lr=dynamic_lr, weight_decay=0.01)\n",
    "        loss = -torch.log_softmax(out, dim=0)[action_t] * reward_t\n",
    "\n",
    "        self.optimizer.zero_grad()\n",
    "        loss.backward()\n",
    "        torch_utils.clip_grad_norm_(self.model.parameters(), _CLIP_VALUE)\n",
    "        self.optimizer.step()"
   ]
  },
  {
   "cell_type": "code",
   "execution_count": 657,
   "id": "e6551783",
   "metadata": {},
   "outputs": [],
   "source": [
    "dog = Dog(num_moves, max_input_size)"
   ]
  },
  {
   "cell_type": "code",
   "execution_count": 682,
   "id": "cfa911de",
   "metadata": {},
   "outputs": [
    {
     "name": "stdout",
     "output_type": "stream",
     "text": [
      "tensor([-1.1867, -1.1963, 20.3553, -5.7022], grad_fn=<SqueezeBackward1>); 0; -1; 1.0000001566368155e-05\n",
      "tensor([26.3599, -6.3194, -5.7859, -4.8049], grad_fn=<SqueezeBackward1>); 0; -1; 0.004999999888241291\n",
      "tensor([-18.0852,   7.0783,  21.6893, -13.5701], grad_fn=<SqueezeBackward1>); 0; -1; 9.999999747378752e-06\n",
      "tensor([ 0.6031,  0.5551, -0.1961, -0.2486], grad_fn=<SqueezeBackward1>); 0; -1; 0.0017735513392835855\n",
      "tensor([ -0.5201,  12.3971, -13.3785,  10.1601], grad_fn=<SqueezeBackward1>); 0; -1; 1.0011071026383433e-05\n",
      "tensor([-6.2828, 20.9316, -9.6848,  5.6263], grad_fn=<SqueezeBackward1>); 1; 1; 1.0001473128795624e-05\n",
      "tensor([ 17.4924,  34.9072,  53.9818, -71.0346], grad_fn=<SqueezeBackward1>); 0; -1; 9.999999747378752e-06\n",
      "tensor([ 21.6277,  11.1039,   8.2851, -16.2895], grad_fn=<SqueezeBackward1>); 0; -1; 0.004999857861548662\n",
      "tensor([ 6.4311,  2.4269,  5.0296, -7.4488], grad_fn=<SqueezeBackward1>); 1; 1; 0.004928023088723421\n",
      "tensor([3.6647, 1.2060, 4.1927, 1.3886], grad_fn=<SqueezeBackward1>); 2; -1; 0.0029439509380608797\n",
      "tensor([-0.1016,  1.1389, -0.0830, -0.2139], grad_fn=<SqueezeBackward1>); 0; -1; 0.000793397834058851\n",
      "tensor([10.2064,  3.1241, 16.8720, -5.7481], grad_fn=<SqueezeBackward1>); 1; 1; 0.004999994765967131\n",
      "tensor([ 32.3425,  14.1219, -24.1932,  -3.8703], grad_fn=<SqueezeBackward1>); 0; -1; 0.004999999888241291\n",
      "tensor([ 45.6992,  13.4308, -25.6534,  -0.7090], grad_fn=<SqueezeBackward1>); 1; 1; 0.004999999888241291\n",
      "tensor([-14.0779,   5.8569,  34.5057, -12.3308], grad_fn=<SqueezeBackward1>); 0; -1; 9.999999747378752e-06\n",
      "tensor([ 14.6079,  31.4275,  18.3515, -26.8479], grad_fn=<SqueezeBackward1>); 2; -1; 1.001045347948093e-05\n",
      "tensor([ 34.2230,   6.6137, -37.4568,  15.3423], grad_fn=<SqueezeBackward1>); 0; -1; 0.004999999888241291\n",
      "tensor([  8.2998,  17.6477,  17.7942, -21.2249], grad_fn=<SqueezeBackward1>); 2; -1; 0.0026872812304645777\n",
      "tensor([ 20.1234,  48.3441,  20.2953, -38.8832], grad_fn=<SqueezeBackward1>); 1; 1; 1.00000761449337e-05\n",
      "tensor([ 64.1720,  64.1152, -58.7476, -13.0680], grad_fn=<SqueezeBackward1>); 1; 1; 0.002575877821072936\n",
      "tensor([ 54.3083,  63.8965, -55.5807, -22.0767], grad_fn=<SqueezeBackward1>); 1; 1; 1.0342337191104889e-05\n",
      "tensor([-1.0814,  2.1254, -0.1000, -0.1059], grad_fn=<SqueezeBackward1>); 1; 1; 0.0010266872122883797\n",
      "tensor([ 30.4629,  16.7520,  -4.8340, -25.4566], grad_fn=<SqueezeBackward1>); 1; 1; 0.004999994300305843\n",
      "tensor([ 11.8122,  52.9753,  -0.9276, -23.9554], grad_fn=<SqueezeBackward1>); 0; -1; 9.999999747378752e-06\n",
      "tensor([ 27.8605,  -0.7360, -34.7794,  13.8492], grad_fn=<SqueezeBackward1>); 1; 1; 0.004999999888241291\n"
     ]
    }
   ],
   "source": [
    "# train\n",
    "TGT = 'SEDUTO'\n",
    "MAX = 25\n",
    "tmp = train[train['truth'] == TGT].sample(MAX)\n",
    "\n",
    "for w, t in tmp.values.tolist():\n",
    "    out = dog.predict(w)\n",
    "    # print(out)\n",
    "    reward = -1\n",
    "    if trans[out] == t:\n",
    "        reward = 1\n",
    "    \n",
    "    dog.learn(w, out, reward)"
   ]
  },
  {
   "cell_type": "code",
   "execution_count": 683,
   "id": "4ad7327c",
   "metadata": {},
   "outputs": [
    {
     "name": "stdout",
     "output_type": "stream",
     "text": [
      "SEDUTO - SEDUTO\n",
      "GIU - SEDUTO\n",
      "SEDUTO - SEDUTO\n",
      "SEDUTO - SEDUTO\n",
      "SEDUTO - SEDUTO\n"
     ]
    }
   ],
   "source": [
    "for w,t in test[test['truth'] == TGT].values.tolist():\n",
    "    print(f\"{trans[dog.predict(w)]} - {t}\")"
   ]
  },
  {
   "cell_type": "code",
   "execution_count": 684,
   "id": "0cc534cb",
   "metadata": {},
   "outputs": [],
   "source": [
    "# in order for this shit to work, the input size must be MUCH SMALLER\n",
    "# maybe 10 or something? sampling on every second\n",
    "# would that be enough?"
   ]
  },
  {
   "cell_type": "code",
   "execution_count": null,
   "id": "49f10db8",
   "metadata": {},
   "outputs": [],
   "source": [
    "#"
   ]
  }
 ],
 "metadata": {
  "kernelspec": {
   "display_name": "Python 3 (ipykernel)",
   "language": "python",
   "name": "python3"
  },
  "language_info": {
   "codemirror_mode": {
    "name": "ipython",
    "version": 3
   },
   "file_extension": ".py",
   "mimetype": "text/x-python",
   "name": "python",
   "nbconvert_exporter": "python",
   "pygments_lexer": "ipython3",
   "version": "3.9.12"
  }
 },
 "nbformat": 4,
 "nbformat_minor": 5
}
