{
 "cells": [
  {
   "cell_type": "code",
   "execution_count": 7,
   "id": "6260131a",
   "metadata": {},
   "outputs": [],
   "source": [
    "import torch\n",
    "import torch.nn as nn\n",
    "import torch.optim as optim\n",
    "import numpy as np\n",
    "import pandas as pd\n",
    "import json\n",
    "from sklearn.model_selection import train_test_split"
   ]
  },
  {
   "cell_type": "code",
   "execution_count": 45,
   "id": "db7d875f",
   "metadata": {},
   "outputs": [],
   "source": [
    "trans = ['GIU', 'SEDUTO', 'SALTA', 'VAI']\n",
    "\n",
    "df = pd.read_csv('./train_csv/test.csv', header=None, delimiter=';')\n",
    "df.columns = ['wave','truth']\n",
    "\n",
    "# df = df[df['truth'].isin(['SEDUTO','VAI'])]\n",
    "\n",
    "train, test = train_test_split(df, train_size=100, stratify=df[\"truth\"])\n",
    "train['wave'] = train['wave'].apply(json.loads)\n",
    "test['wave'] = test['wave'].apply(json.loads)\n"
   ]
  },
  {
   "cell_type": "code",
   "execution_count": 18,
   "id": "3f817521",
   "metadata": {},
   "outputs": [],
   "source": [
    "class Net(nn.Module):\n",
    "    def __init__(self, input_size, hidden_size, num_classes):\n",
    "        super(Net, self).__init__()\n",
    "        self.hidden_size = hidden_size\n",
    "        self.lstm = nn.LSTM(input_size, hidden_size, batch_first=True)\n",
    "        self.fc = nn.Linear(hidden_size, num_classes)\n",
    "        \n",
    "    def forward(self, x):\n",
    "        _, (h_n, _) = self.lstm(x)\n",
    "        output = self.fc(h_n[-1])\n",
    "        return output"
   ]
  },
  {
   "cell_type": "code",
   "execution_count": 56,
   "id": "08a92ea6",
   "metadata": {},
   "outputs": [],
   "source": [
    "_LIVE_LEARNING_RATE = 0.001\n",
    "_HIDDEN_SIZE = 128\n",
    "max_input_size = 100\n",
    "num_moves = 4\n",
    "\n",
    "class Dog:\n",
    "    def __init__(self, num_moves, num_possible_commands):\n",
    "        self.device = torch.device('cpu')\n",
    "        self.max_commands = num_possible_commands\n",
    "        self.model = Net(num_possible_commands, _HIDDEN_SIZE, num_moves)\n",
    "        self.optimizer = optim.Adam(self.model.parameters(), lr=_LIVE_LEARNING_RATE)\n",
    "        self.loss_fn = nn.CrossEntropyLoss()\n",
    "        \n",
    "\n",
    "    def _get_input(self, command):\n",
    "        command.extend([0] * (self.max_commands - len(command)))\n",
    "        tensor_command = torch.tensor(command[:self.max_commands]).unsqueeze(0).unsqueeze(0)\n",
    "        return tensor_command\n",
    "\n",
    "    def predict(self, command):\n",
    "        with torch.no_grad():\n",
    "            output = self.model(self._get_input(command))\n",
    "            return torch.multinomial(nn.functional.softmax(output, dim=-1).squeeze(), 1).item()\n",
    "\n",
    "    def learn(self, command, action, reward):\n",
    "        action_t = torch.tensor(action, dtype=torch.long)\n",
    "        reward_t = torch.tensor(reward, dtype=torch.float)\n",
    "        \n",
    "        # self.memory.push(self._get_input(command), action_t, reward_t)\n",
    "        out = self.model(self._get_input(command)).squeeze(0)\n",
    "        loss = -torch.log(out[action_t]) * reward_t\n",
    "\n",
    "        self.optimizer.zero_grad()\n",
    "        loss.backward()\n",
    "        self.optimizer.step()"
   ]
  },
  {
   "cell_type": "code",
   "execution_count": 74,
   "id": "7aaade33",
   "metadata": {},
   "outputs": [],
   "source": [
    "dog = Dog(num_moves, max_input_size)"
   ]
  },
  {
   "cell_type": "code",
   "execution_count": 87,
   "id": "b242d96e",
   "metadata": {},
   "outputs": [
    {
     "name": "stdout",
     "output_type": "stream",
     "text": [
      "tensor([-0.0446, -0.0043, -0.0032,  0.0312], grad_fn=<SqueezeBackward1>)\n",
      "tensor([-0.0432, -0.0030, -0.0035,  0.0297], grad_fn=<SqueezeBackward1>)\n",
      "tensor([-0.0449,  0.0006, -0.0048,  0.0279], grad_fn=<SqueezeBackward1>)\n",
      "tensor([-0.0466,  0.0037, -0.0033,  0.0261], grad_fn=<SqueezeBackward1>)\n",
      "tensor([-0.0487,  0.0066, -0.0007,  0.0243], grad_fn=<SqueezeBackward1>)\n",
      "tensor([-0.0478,  0.0082,  0.0028,  0.0228], grad_fn=<SqueezeBackward1>)\n",
      "tensor([-0.0513,  0.0114,  0.0048,  0.0191], grad_fn=<SqueezeBackward1>)\n",
      "tensor([-0.0725,  0.0227,  0.0026,  0.0099], grad_fn=<SqueezeBackward1>)\n",
      "tensor([-0.0495,  0.0134,  0.0066,  0.0156], grad_fn=<SqueezeBackward1>)\n",
      "tensor([-0.0508,  0.0151,  0.0072,  0.0127], grad_fn=<SqueezeBackward1>)\n",
      "tensor([-0.0510,  0.0156,  0.0078,  0.0103], grad_fn=<SqueezeBackward1>)\n",
      "tensor([-0.0516,  0.0162,  0.0083,  0.0081], grad_fn=<SqueezeBackward1>)\n",
      "tensor([-0.0547,  0.0180,  0.0076,  0.0051], grad_fn=<SqueezeBackward1>)\n",
      "tensor([-0.0542,  0.0175,  0.0076,  0.0038], grad_fn=<SqueezeBackward1>)\n",
      "tensor([-0.0578,  0.0188,  0.0067,  0.0008], grad_fn=<SqueezeBackward1>)\n",
      "tensor([-0.0596,  0.0192,  0.0065, -0.0007], grad_fn=<SqueezeBackward1>)\n",
      "tensor([-0.0601,  0.0189,  0.0055, -0.0019], grad_fn=<SqueezeBackward1>)\n",
      "tensor([-0.0692,  0.0234,  0.0013, -0.0064], grad_fn=<SqueezeBackward1>)\n",
      "tensor([-6.0996e-02,  1.8639e-02, -2.5965e-05, -3.9140e-03],\n",
      "       grad_fn=<SqueezeBackward1>)\n",
      "tensor([-0.0610,  0.0183, -0.0029, -0.0017], grad_fn=<SqueezeBackward1>)\n",
      "tensor([-0.0654,  0.0200, -0.0059, -0.0013], grad_fn=<SqueezeBackward1>)\n",
      "tensor([-0.0648,  0.0192, -0.0074,  0.0004], grad_fn=<SqueezeBackward1>)\n",
      "tensor([-0.0652,  0.0189, -0.0085, -0.0028], grad_fn=<SqueezeBackward1>)\n",
      "tensor([-0.0646,  0.0180, -0.0092, -0.0053], grad_fn=<SqueezeBackward1>)\n",
      "tensor([-0.0635,  0.0169, -0.0095, -0.0072], grad_fn=<SqueezeBackward1>)\n"
     ]
    }
   ],
   "source": [
    "# train\n",
    "TGT = 'GIU'\n",
    "MAX = 25\n",
    "tmp = train[train['truth'] == TGT].sample(MAX)\n",
    "\n",
    "for w, t in tmp.values.tolist():\n",
    "    out = dog.predict(w)\n",
    "    reward = -1\n",
    "    if trans[out] == t:\n",
    "        reward = 1\n",
    "    \n",
    "    dog.learn(w, out, reward)"
   ]
  },
  {
   "cell_type": "code",
   "execution_count": 94,
   "id": "b7c89cdb",
   "metadata": {},
   "outputs": [
    {
     "name": "stdout",
     "output_type": "stream",
     "text": [
      "SALTA - GIU\n",
      "SEDUTO - GIU\n",
      "VAI - GIU\n",
      "SEDUTO - GIU\n",
      "SEDUTO - GIU\n"
     ]
    }
   ],
   "source": [
    "for w,t in test[test['truth'] == TGT].values.tolist():\n",
    "    print(f\"{trans[dog.predict(w)]} - {t}\")"
   ]
  },
  {
   "cell_type": "code",
   "execution_count": null,
   "id": "8ded4cf8",
   "metadata": {},
   "outputs": [],
   "source": []
  }
 ],
 "metadata": {
  "kernelspec": {
   "display_name": "Python 3 (ipykernel)",
   "language": "python",
   "name": "python3"
  },
  "language_info": {
   "codemirror_mode": {
    "name": "ipython",
    "version": 3
   },
   "file_extension": ".py",
   "mimetype": "text/x-python",
   "name": "python",
   "nbconvert_exporter": "python",
   "pygments_lexer": "ipython3",
   "version": "3.9.12"
  }
 },
 "nbformat": 4,
 "nbformat_minor": 5
}
